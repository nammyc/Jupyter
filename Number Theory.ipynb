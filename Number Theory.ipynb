{
 "cells": [
  {
   "cell_type": "markdown",
   "metadata": {},
   "source": [
    "# This notebook is a collection of utilities for number theory."
   ]
  },
  {
   "cell_type": "code",
   "execution_count": 4,
   "metadata": {},
   "outputs": [],
   "source": [
    "import numpy as np\n",
    "import math"
   ]
  },
  {
   "cell_type": "markdown",
   "metadata": {},
   "source": [
    "Helper functions."
   ]
  },
  {
   "cell_type": "code",
   "execution_count": 7,
   "metadata": {},
   "outputs": [],
   "source": [
    "def gcd(a, b):\n",
    "    if(b): \n",
    "        return gcd(b, a % b)\n",
    "    else: \n",
    "        return math.fabs(a)\n",
    "    \n",
    "def phi(number):\n",
    "    num = number\n",
    "    totalPhi = 1\n",
    "    counter = 2\n",
    "    while(counter <= num):\n",
    "        innerCounter = 0\n",
    "        while(num % counter == 0):\n",
    "            innerCounter += 1\n",
    "            num = num / counter\n",
    "        if(innerCounter > 1):\n",
    "            totalPhi = totalPhi * (math.pow(i, counter) - math.pow(i, counter - 1))\n",
    "        elif(innerCounter == 1):\n",
    "            totalPhi = totalPhi * (counter - 1)\n",
    "        counter += 1\n",
    "    return totalPhi"
   ]
  },
  {
   "cell_type": "code",
   "execution_count": 8,
   "metadata": {},
   "outputs": [
    {
     "name": "stdout",
     "output_type": "stream",
     "text": [
      "2\n"
     ]
    }
   ],
   "source": [
    "print(phi(6))"
   ]
  },
  {
   "cell_type": "code",
   "execution_count": null,
   "metadata": {},
   "outputs": [],
   "source": []
  }
 ],
 "metadata": {
  "kernelspec": {
   "display_name": "Python 3",
   "language": "python",
   "name": "python3"
  },
  "language_info": {
   "codemirror_mode": {
    "name": "ipython",
    "version": 3
   },
   "file_extension": ".py",
   "mimetype": "text/x-python",
   "name": "python",
   "nbconvert_exporter": "python",
   "pygments_lexer": "ipython3",
   "version": "3.6.3"
  }
 },
 "nbformat": 4,
 "nbformat_minor": 2
}
